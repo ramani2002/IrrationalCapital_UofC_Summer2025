{
 "cells": [
  {
   "cell_type": "code",
   "execution_count": null,
   "id": "dde9bb9e",
   "metadata": {
    "vscode": {
     "languageId": "plaintext"
    }
   },
   "outputs": [],
   "source": [
    "import csv"
   ]
  },
  {
   "cell_type": "code",
   "execution_count": null,
   "id": "324c48c5",
   "metadata": {
    "vscode": {
     "languageId": "plaintext"
    }
   },
   "outputs": [],
   "source": [
    "import pandas as pd\n",
    "from sklearn.preprocessing import StandardScaler, OneHotEncoder\n",
    "from sklearn.compose import ColumnTransformer\n",
    "from sklearn.pipeline import Pipeline\n",
    "from sklearn.cluster import KMeans\n",
    "from sklearn.metrics import silhouette_score\n",
    "\n",
    "\n",
    "df = pd.read_csv('/content/drive/MyDrive/finM/transformed_hcf_scores.csv')\n",
    "\n",
    "categorical_cols = ['Sector', 'Industry']\n",
    "numeric_cols = ['MarketCap',\n",
    "                'Direct Management - hcf score',\n",
    "                'Emotional Connection - hcf score',\n",
    "                'Engagement - hcf score',\n",
    "                'Extrinsic - hcf score',\n",
    "                'Innovation - hcf score',\n",
    "                'Organizational Alignment - hcf score',\n",
    "                'Organizational Effectiveness - hcf score']\n",
    "\n",
    "preprocessor = ColumnTransformer([\n",
    "    ('cat', OneHotEncoder(handle_unknown='ignore'), categorical_cols),\n",
    "    ('num', StandardScaler(), numeric_cols)\n",
    "])\n",
    "\n",
    "k = 5\n",
    "pipeline = Pipeline([\n",
    "    ('prep', preprocessor),\n",
    "    ('cluster', KMeans(n_clusters=k, random_state=42))\n",
    "])\n",
    "\n",
    "\n",
    "df = df.dropna(subset=categorical_cols + numeric_cols)\n",
    "labels = pipeline.fit_predict(df[categorical_cols + numeric_cols])\n",
    "\n",
    "\n",
    "df['cluster'] = labels\n",
    "\n",
    "\n",
    "feat_matrix = pipeline.named_steps['prep'].transform(df[categorical_cols + numeric_cols])\n",
    "sil_score = silhouette_score(feat_matrix, labels)\n",
    "print(f'Chosen k={k}, silhouette score = {sil_score:.3f}')\n",
    "\n",
    "\n",
    "best_k, best_score = 0, -1\n",
    "for k_try in range(2, 11):\n",
    "    km = KMeans(n_clusters=k_try, random_state=42)\n",
    "    lbl = km.fit_predict(feat_matrix)\n",
    "    score = silhouette_score(feat_matrix, lbl)\n",
    "    if score > best_score:\n",
    "        best_k, best_score = k_try, score\n",
    "print(f'Best k by silhouette: {best_k} (score={best_score:.3f})')\n"
   ]
  },
  {
   "cell_type": "code",
   "execution_count": null,
   "id": "a3d51a72",
   "metadata": {
    "vscode": {
     "languageId": "plaintext"
    }
   },
   "outputs": [],
   "source": [
    "print(df['cluster'].value_counts())\n"
   ]
  },
  {
   "cell_type": "code",
   "execution_count": null,
   "id": "a4480998",
   "metadata": {
    "vscode": {
     "languageId": "plaintext"
    }
   },
   "outputs": [],
   "source": [
    "cluster_companies = []\n",
    "for i in range(5):\n",
    "  cluster_companies.append(df.loc[df['cluster'] == i, ['Code','Name', 'Sector']])"
   ]
  },
  {
   "cell_type": "code",
   "execution_count": null,
   "id": "77bd527e",
   "metadata": {
    "vscode": {
     "languageId": "plaintext"
    }
   },
   "outputs": [],
   "source": [
    "feat_names = pipeline.named_steps['prep'] \\\n",
    "                .get_feature_names_out()\n",
    "\n",
    "centers = pipeline.named_steps['cluster'].cluster_centers_\n",
    "\n",
    "import pandas as pd\n",
    "centroids_df = pd.DataFrame(centers, columns=feat_names)\n",
    "\n",
    "for i, row in centroids_df.iterrows():\n",
    "    print(f\"\\nCluster {i} top features:\")\n",
    "    print(row.abs().sort_values(ascending=False).head(5))"
   ]
  },
  {
   "cell_type": "code",
   "execution_count": null,
   "id": "5b6f650e",
   "metadata": {
    "vscode": {
     "languageId": "plaintext"
    }
   },
   "outputs": [],
   "source": [
    "text17_df = pd.read_csv(\n",
    "    \"/content/drive/MyDrive/finM/textData2/gd_sample_sy2017.csv\",\n",
    "    engine=\"python\",\n",
    "    on_bad_lines=\"skip\"\n",
    ")\n"
   ]
  },
  {
   "cell_type": "code",
   "execution_count": null,
   "id": "d13e449e",
   "metadata": {
    "vscode": {
     "languageId": "plaintext"
    }
   },
   "outputs": [],
   "source": [
    "text17_df.columns"
   ]
  },
  {
   "cell_type": "code",
   "execution_count": null,
   "id": "7798742f",
   "metadata": {
    "vscode": {
     "languageId": "plaintext"
    }
   },
   "outputs": [],
   "source": [
    "import pandas as pd\n",
    "from sklearn.pipeline import Pipeline\n",
    "from sklearn.compose import ColumnTransformer\n",
    "from sklearn.preprocessing import StandardScaler, OneHotEncoder, FunctionTransformer\n",
    "from sklearn.feature_extraction.text import TfidfVectorizer\n",
    "from sklearn.decomposition import TruncatedSVD\n",
    "from sklearn.cluster import KMeans\n",
    "from sklearn.impute import SimpleImputer\n",
    "\n",
    "numeric_cols = [\n",
    "    'Helpful Count', 'Not Helpful Count',\n",
    "    'Rating: Overall', 'Rating: Work/Life Balance',\n",
    "    'Rating: Culture & Values', 'Rating: Career Opportunities',\n",
    "    'Rating: Comp & Benefits', 'Rating: Senior Management',\n",
    "    'Rating: Diversity & Inclusion', 'Length of Employment'\n",
    "]\n",
    "\n",
    "categorical_cols = [\n",
    "    'Sector', 'Industry', 'GICS Sector', 'Exchange', 'Gender'\n",
    "]\n",
    "\n",
    "text_cols = [\n",
    "    'Summary', 'Description', 'PROs', 'CONs', 'Advice to Management'\n",
    "]\n",
    "\n",
    "numeric_transformer = Pipeline([\n",
    "    ('imputer', SimpleImputer(strategy='mean')),\n",
    "    ('scaler',  StandardScaler())\n",
    "])\n",
    "\n",
    "categorical_transformer = Pipeline([\n",
    "    ('onehot', OneHotEncoder())\n",
    "])\n",
    "\n",
    "\n",
    "def combine_text(X):\n",
    "    return X[text_cols].fillna(\"\").agg(\" \".join, axis=1)\n",
    "\n",
    "text_transformer = Pipeline([\n",
    "    ('selector', FunctionTransformer(combine_text, validate=False)),\n",
    "    ('tfidf', TfidfVectorizer(max_features=5_000, stop_words='english'))\n",
    "])\n",
    "\n",
    "preprocessor = ColumnTransformer([\n",
    "    ('num', numeric_transformer, numeric_cols),\n",
    "    ('cat', categorical_transformer, categorical_cols),\n",
    "    ('txt', text_transformer, text_cols)\n",
    "], remainder='drop')\n",
    "\n",
    "pipeline = Pipeline([\n",
    "    ('preproc', preprocessor),\n",
    "    ('svd',     TruncatedSVD(n_components=50, random_state=42)),\n",
    "    ('kmeans',  KMeans(n_clusters=5, random_state=42))\n",
    "])\n",
    "\n",
    "cluster_labels = pipeline.fit_predict(text17_df)\n",
    "\n",
    "text17_df['cluster'] = cluster_labels\n",
    "\n",
    "print(text17_df['cluster'].value_counts())\n"
   ]
  },
  {
   "cell_type": "code",
   "execution_count": null,
   "id": "86d443a4",
   "metadata": {
    "vscode": {
     "languageId": "plaintext"
    }
   },
   "outputs": [],
   "source": [
    "t_cluster_companies = []\n",
    "for i in range(5):\n",
    "  t_cluster_companies.append(text17_df.loc[text17_df['cluster'] == i, ['Ticker Symbol','Company', 'ICB Sector']])"
   ]
  },
  {
   "cell_type": "code",
   "execution_count": null,
   "id": "234b1fd0",
   "metadata": {
    "vscode": {
     "languageId": "plaintext"
    }
   },
   "outputs": [],
   "source": [
    "text17_df[\"Company\"].value_counts()"
   ]
  }
 ],
 "metadata": {
  "language_info": {
   "name": "python"
  }
 },
 "nbformat": 4,
 "nbformat_minor": 5
}
